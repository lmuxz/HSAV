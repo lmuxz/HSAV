{
 "cells": [
  {
   "cell_type": "code",
   "execution_count": 1,
   "metadata": {},
   "outputs": [],
   "source": [
    "import os\n",
    "import sys\n",
    "sys.path.append(\"../src/\")\n",
    "sys.path.append(\"../model/\")"
   ]
  },
  {
   "cell_type": "code",
   "execution_count": 3,
   "metadata": {},
   "outputs": [],
   "source": [
    "import numpy as np\n",
    "import torch\n",
    "\n",
    "from io_utils import load_dataset\n",
    "\n",
    "from subdomain_tools import nm_minimize"
   ]
  },
  {
   "cell_type": "markdown",
   "metadata": {},
   "source": [
    "### Setting"
   ]
  },
  {
   "cell_type": "code",
   "execution_count": 4,
   "metadata": {},
   "outputs": [
    {
     "name": "stdout",
     "output_type": "stream",
     "text": [
      "Period: 0 1\n",
      "Target shape (20930, 51)\n",
      "Source shape (41058, 51)\n",
      "target_spoints [10507]\n",
      "source_spoints [12814]\n",
      "target_spoints [7668 9668]\n",
      "source_spoints [12201 37891]\n",
      "Period: 1 1\n",
      "Target shape (20930, 51)\n",
      "Source shape (41058, 51)\n",
      "target_spoints [3303]\n",
      "target_spoints [ 3293 18930]\n",
      "Period: 2 1\n",
      "Target shape (20930, 51)\n",
      "Source shape (41058, 51)\n",
      "target_spoints [18278]\n",
      "target_spoints [ 5965 16411]\n",
      "Separations that contain no more than 2000 examples are elimilated\n"
     ]
    }
   ],
   "source": [
    "task = \"kaggle\"\n",
    "data_type = \"uni\"\n",
    "\n",
    "num_dim = 43\n",
    "period = [0, 1, 2]\n",
    "cate_index = 8\n",
    "source_domain = \"source\"\n",
    "target_domain = \"target\"\n",
    "\n",
    "\n",
    "seed = 1\n",
    "\n",
    "for p in period:\n",
    "    torch.manual_seed(seed)\n",
    "    np.random.seed(seed)\n",
    "\n",
    "    print(\"Period:\", p, seed, flush=True)\n",
    "\n",
    "\n",
    "    # load source and target data\n",
    "    source_train, source_train_label, source_test, source_test_label = load_dataset(\"../data/\", \n",
    "                                                                                    task, source_domain, data_type, 0)\n",
    "    target_train, target_train_label, target_test, target_test_label = load_dataset(\"../data/\", \n",
    "                                                                                    task, target_domain, data_type, p)\n",
    "\n",
    "\n",
    "    print(\"Target shape\", target_train.shape)\n",
    "    print(\"Source shape\", source_train.shape)\n",
    "\n",
    "    for k in [2, 3]:\n",
    "        max_iter = 200\n",
    "        spoints, min_res = nm_minimize(target_train, cate_index, num_dim, \n",
    "                                       k=k, max_iter=max_iter, tol=1e-2)\n",
    "        print(\"target_spoints\", spoints)\n",
    "\n",
    "        if p == 0:\n",
    "            spoints, min_res = nm_minimize(source_train, cate_index, num_dim, \n",
    "                                           k=k, max_iter=max_iter, tol=1e-2)\n",
    "            print(\"source_spoints\", spoints)\n",
    "\n",
    "print(\"Separations that contain no more than 2000 examples are elimilated\")"
   ]
  },
  {
   "cell_type": "code",
   "execution_count": null,
   "metadata": {},
   "outputs": [],
   "source": []
  }
 ],
 "metadata": {
  "kernelspec": {
   "display_name": "Python 3",
   "language": "python",
   "name": "python3"
  },
  "language_info": {
   "codemirror_mode": {
    "name": "ipython",
    "version": 3
   },
   "file_extension": ".py",
   "mimetype": "text/x-python",
   "name": "python",
   "nbconvert_exporter": "python",
   "pygments_lexer": "ipython3",
   "version": "3.8.8"
  }
 },
 "nbformat": 4,
 "nbformat_minor": 2
}
